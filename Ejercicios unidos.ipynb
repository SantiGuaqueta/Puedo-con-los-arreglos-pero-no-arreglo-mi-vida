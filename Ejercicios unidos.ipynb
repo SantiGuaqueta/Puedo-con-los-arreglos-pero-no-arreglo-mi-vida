{
 "cells": [
  {
   "cell_type": "code",
   "execution_count": null,
   "metadata": {},
   "outputs": [],
   "source": [
    "# Ejercicio 1\n",
    "n=int(input(\"Cantidad de datos en la lista: \")) #Pido cantidad de numeros que va a tener la lista\n",
    "lista=[] # declaro una lista vacia que se utilizara mas adelante\n",
    "suma=0 # suma se utilizara mas adelante para sumar los numeros de la lista\n",
    "for x in range(0,n): \n",
    "    num=float(input(\"Escriba el numero: \"))# Le pido un numero\n",
    "    lista.append(num) # El numero que pedimos anterior se agregara a la lista \n",
    "    \n",
    "for numero in lista:\n",
    "    suma += numero # le pedimos que sume los numeros de la lista\n",
    "Promedio= suma/len(lista) # Con los numeros sumados anteriormente los dividimos en la cantidad de digitos de la lista\n",
    "print(Promedio) # Imprimimos el promedio"
   ]
  },
  {
   "cell_type": "code",
   "execution_count": null,
   "metadata": {},
   "outputs": [],
   "source": [
    "# Ejercicio 2\n",
    "n=int(input(\"Cantidad de datos en la lista: \")) # Pido cantidad de numeros que va a tener la lista\n",
    "lista=[] # declaro una lista vacia que se utilizara mas adelante\n",
    "lista2=[]\n",
    "for x in range(0,n):\n",
    "    num=float(input(\"Escriba un numero para lista 1: \"))# Le pido un numero\n",
    "    lista.append(num) # El numero que pedimos anterior se agregara a la lista \n",
    "\n",
    "for x in range(0,n):\n",
    "    num=float(input(\"Escriba un numero para lista 2: \"))# Le pido un numero\n",
    "    lista2.append(num) # El numero que pedimos anterior se agregara a la lista \n",
    "\n",
    "print(\"Su lista 1 es: \" + str(lista))\n",
    "print(\"Su lista 2 es: \" +str(lista2))\n",
    "producto_punto=0\n",
    "\n",
    "for y in range(0,n):\n",
    "    producto_punto += lista[y]*lista2[y]\n",
    "print(\"El producto punto de las dos listas es: \"+ str(producto_punto))"
   ]
  },
  {
   "cell_type": "code",
   "execution_count": null,
   "metadata": {},
   "outputs": [],
   "source": [
    "# Ejercicio 3\n",
    "n=int(input(\"Cantidad de datos en la lista: \")) # Pido cantidad de numeros que va a tener la lista\n",
    "lista=[] # declaro una lista vacia que se utilizara mas adelante\n",
    "lista2=[]\n",
    "for x in range(0,n):\n",
    "    num=float(input(\"Escriba el numero: \"))# Le pido un numero\n",
    "    lista.append(num) # El numero que pedimos anterior se agregara a la lista \n",
    "    \n",
    "for numero in lista: # Pido que la variable numero recorra la lista que antes se formo\n",
    "    if numero == 0: # Le pido que si el numero es igual a 0 realice lo siguiente\n",
    "        lista2.append(numero) # Lo que quiero que realize si cumpe la condicion del if es que lo agrege a la lista 2 que esta vacia\n",
    "print(lista2)# Imprimo la lista 2 esta debe estar fuera del if y del for para que no se repita varias veces"
   ]
  }
 ],
 "metadata": {
  "kernelspec": {
   "display_name": "Python 3",
   "language": "python",
   "name": "python3"
  },
  "language_info": {
   "name": "python",
   "version": "3.11.1"
  },
  "orig_nbformat": 4
 },
 "nbformat": 4,
 "nbformat_minor": 2
}
